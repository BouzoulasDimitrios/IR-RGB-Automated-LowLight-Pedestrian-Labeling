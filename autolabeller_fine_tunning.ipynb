{
 "cells": [
  {
   "cell_type": "code",
   "execution_count": null,
   "id": "d166667e",
   "metadata": {},
   "outputs": [],
   "source": [
    "# from headers.directory_manager import *\n",
    "from headers.configuration_generator import *\n",
    "from headers.yolo_label_functions import *\n",
    "from headers.kaist_file_manager import *\n",
    "\n",
    "ROOT_KAIST = \"PATH_TO_KAIST_DATASET_ROOT\"\n",
    "BASELINE_MODEL = \"./models/yolo11m.pt\"\n",
    "\n",
    "# collection of daytime sequences from KAIST\n",
    "daytime_sequences = [\"00\", \"01\", \"02\", \"06\", \"07\", \"08\"] "
   ]
  },
  {
   "cell_type": "markdown",
   "id": "ad7c8912",
   "metadata": {},
   "source": [
    "# Daytime data preprocessing\n",
    "conversion of directories to a joined direcotry containing the sum of inputted sequences"
   ]
  },
  {
   "cell_type": "code",
   "execution_count": null,
   "id": "f0e2d9ec",
   "metadata": {},
   "outputs": [],
   "source": [
    "flattened_daytime_lwir_images = flatten_KAIST_images(sequences= daytime_sequences, root_kaist= ROOT_KAIST, target_directory=\"preprocessed_daytime\", image_type= \"lwir\")\n",
    "flattened_daytime_labels = flatten_KAIST_labels(sequences= daytime_sequences, root_kaist= ROOT_KAIST, target_directory=\"preprocessed_daytime\") "
   ]
  },
  {
   "cell_type": "markdown",
   "id": "01150f09",
   "metadata": {},
   "source": [
    "# data cleanning\n",
    "\n",
    "generation of a config file that contains IDs of files that contain pedestrian or nothing removing images with \"cyclist\" and \"people\" images ensuring that the dataset is compatible with the yolo classes"
   ]
  },
  {
   "cell_type": "code",
   "execution_count": null,
   "id": "b884eb79",
   "metadata": {},
   "outputs": [],
   "source": [
    "daytime_pedestrian_and_empty_image_ids = \"./configs/daytime_ped_emp_only.txt\"\n",
    "\n",
    "generate_txt_config_by_components(label_dir     = flattened_daytime_labels,\n",
    "                                strict          = True,\n",
    "                                include_person  = True, \n",
    "                                include_people  = False, \n",
    "                                include_empty   = True, \n",
    "                                include_cyclist = False, \n",
    "                                output_file= daytime_pedestrian_and_empty_image_ids)"
   ]
  },
  {
   "cell_type": "markdown",
   "id": "76ef6516",
   "metadata": {},
   "source": [
    "# cleanup of unwanted classes\n",
    "application of the generated configuration file to the combined labels and image directories"
   ]
  },
  {
   "cell_type": "code",
   "execution_count": null,
   "id": "e56d4ba8",
   "metadata": {},
   "outputs": [],
   "source": [
    "cleaned_daytime_lwir_ped_emp = flattened_daytime_lwir_images + \"ped_emp\"\n",
    "\n",
    "copy_files_based_on_config(input_dir=flattened_daytime_lwir_images, \n",
    "                           output_dir=cleaned_daytime_lwir_ped_emp, \n",
    "                           config_file=daytime_pedestrian_and_empty_image_ids)"
   ]
  },
  {
   "cell_type": "code",
   "execution_count": null,
   "id": "6bb53483",
   "metadata": {},
   "outputs": [],
   "source": [
    "cleaned_daytime_lwir_labels_ped_emp = flattened_daytime_labels + \"ped_emp\"\n",
    "\n",
    "copy_files_based_on_config(input_dir=flattened_daytime_labels, \n",
    "                           output_dir=cleaned_daytime_lwir_labels_ped_emp, \n",
    "                           config_file=daytime_pedestrian_and_empty_image_ids)\n",
    "\n",
    "yolo_label_directory = convert_kaist_to_yolo_labels(source_directory= cleaned_daytime_lwir_labels_ped_emp)"
   ]
  },
  {
   "cell_type": "markdown",
   "id": "6d931426",
   "metadata": {},
   "source": [
    "# train test split configuration\n",
    "using the images and labels of the infrared portion of the dataset we generate a 90-10 % random train-test split"
   ]
  },
  {
   "cell_type": "code",
   "execution_count": null,
   "id": "4f869fa2",
   "metadata": {},
   "outputs": [],
   "source": [
    "config_split = \"./configs/daytime_ped_emp_lwir_test_tts.txt\"\n",
    "generate_split_config(reference_dir=yolo_label_directory, output_file=config_split, train_ratio=0.9)"
   ]
  },
  {
   "cell_type": "markdown",
   "id": "21d4503a",
   "metadata": {},
   "source": [
    "# dataset generation\n",
    "using the given TTS we apply it creating a directory that contains a train/test subdirectories for training.\n"
   ]
  },
  {
   "cell_type": "code",
   "execution_count": null,
   "id": "38cafe8b",
   "metadata": {},
   "outputs": [],
   "source": [
    "daytime_tts_base_dir = os.path.join(ROOT_KAIST, \"tts_kaist_daytime_ped_emp_90_10\")\n",
    "Path(daytime_tts_base_dir).mkdir(parents=True, exist_ok=True)\n",
    "\n",
    "directories = {\n",
    "    \"images\": cleaned_daytime_lwir_ped_emp, \n",
    "    \"labels\": yolo_label_directory\n",
    "}\n",
    "\n",
    "apply_split_to_directories(config_file= config_split, directories= directories, output_base_dir = daytime_tts_base_dir)\n",
    "\n",
    "\n",
    "yaml_daytime_labels = \"./configs/daytime_ir_detection_fine_tunning.yaml\"\n",
    "\n",
    "yaml_ir_yolo_training = {\n",
    "    \"train\": os.path.join(daytime_tts_base_dir, \"train\"),\n",
    "    \"val\":   os.path.join(daytime_tts_base_dir, \"test\"),\n",
    "    \"nc\": 1,\n",
    "    \"names\": ['person']  \n",
    "}\n",
    "\n",
    "write_yolo_yaml(config_dict= yaml_ir_yolo_training, output_path=yaml_daytime_labels)"
   ]
  },
  {
   "cell_type": "markdown",
   "id": "132be872",
   "metadata": {},
   "source": [
    "at this point we have splitted the daytime portion of kaist into training and testing, allowing us to fine tune a yolo model for that task.\n",
    "\n",
    "    train: \n",
    "        /labels\n",
    "        /images\n",
    "    test:\n",
    "        /labels\n",
    "        /images\n",
    "        "
   ]
  },
  {
   "cell_type": "markdown",
   "id": "ac7b65cd",
   "metadata": {},
   "source": [
    "# model training\n"
   ]
  },
  {
   "cell_type": "code",
   "execution_count": null,
   "id": "88235da3",
   "metadata": {},
   "outputs": [],
   "source": [
    "from ultralytics import YOLO\n",
    "import subprocess\n",
    "import torch\n",
    "torch.cuda.empty_cache()\n",
    "\n",
    "try:\n",
    "    subprocess.check_output('nvidia-smi')\n",
    "    print('Nvidia GPU detected!')\n",
    "except Exception: # this command not being found can raise quite a few different errors depending on the configuration\n",
    "    print('No Nvidia GPU in system!')\n",
    "    \n",
    "\n",
    "torch.cuda.is_available()"
   ]
  },
  {
   "cell_type": "markdown",
   "id": "b79fc762",
   "metadata": {},
   "source": [
    "# model fine-tunning\n",
    "\n",
    "we train a baseline yolo model to perform pedestrian detection on the cleaned up IR dataset, improving the models ability to detect pedestrians in infrared images."
   ]
  },
  {
   "cell_type": "code",
   "execution_count": null,
   "id": "c08240db",
   "metadata": {},
   "outputs": [],
   "source": [
    "model = YOLO(BASELINE_MODEL)  \n",
    "results = model.train(data=yaml_daytime_labels, epochs=10, device=0, batch=8)"
   ]
  }
 ],
 "metadata": {
  "kernelspec": {
   "display_name": "thesis01",
   "language": "python",
   "name": "python3"
  },
  "language_info": {
   "codemirror_mode": {
    "name": "ipython",
    "version": 3
   },
   "file_extension": ".py",
   "mimetype": "text/x-python",
   "name": "python",
   "nbconvert_exporter": "python",
   "pygments_lexer": "ipython3",
   "version": "3.10.16"
  }
 },
 "nbformat": 4,
 "nbformat_minor": 5
}
