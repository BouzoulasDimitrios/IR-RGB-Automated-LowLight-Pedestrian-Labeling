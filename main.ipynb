{
 "cells": [
  {
   "cell_type": "code",
   "execution_count": null,
   "id": "78e4a0d8",
   "metadata": {},
   "outputs": [],
   "source": [
    "from headers.directory_manager import *\n",
    "\n",
    "ROOT_KAIST = \"/home/dimitrios/THESIS_DATASETS/kaist_original\"\n",
    "BASELINE_MODEL = \"./config/yolo11m.pt\"\n",
    "FINE_TUNED_IR_YOLO_MODEL = \"./config/IR-YOLOv11m.pt\"\n",
    "\n",
    "nighttime_sequences = [\"03\", \"04\", \"05\", \"10\", \"11\"]\n"
   ]
  },
  {
   "cell_type": "code",
   "execution_count": null,
   "id": "d9a88495",
   "metadata": {},
   "outputs": [],
   "source": [
    "flattened_nighttime_lwir_images = flatten_KAIST_images(sequences= nighttime_sequences, \n",
    "                                                       root_kaist= ROOT_KAIST, \n",
    "                                                       target_directory=\"preprocessed_nighttime\", \n",
    "                                                       image_type= \"lwir\")\n",
    "\n",
    "flattened_nighttime_rgb_images = flatten_KAIST_images(sequences= nighttime_sequences, \n",
    "                                                       root_kaist= ROOT_KAIST, \n",
    "                                                       target_directory=\"preprocessed_nighttime\", \n",
    "                                                       image_type= \"visible\")\n",
    "\n",
    "flattened_nighttime_labels = flatten_KAIST_labels(sequences= nighttime_sequences, \n",
    "                                                  root_kaist= ROOT_KAIST, \n",
    "                                                  target_directory=\"preprocessed_nighttime\")"
   ]
  },
  {
   "cell_type": "code",
   "execution_count": null,
   "id": "91732130",
   "metadata": {},
   "outputs": [],
   "source": [
    "flattened_nighttime_labels, flattened_nighttime_lwir_images, flattened_nighttime_rgb_images"
   ]
  },
  {
   "cell_type": "code",
   "execution_count": null,
   "id": "3feae4e1",
   "metadata": {},
   "outputs": [],
   "source": [
    "nighttime_pedestrian_and_empty_image_ids = \"./config/nighttime_ped_emp_only.txt\"\n",
    "\n",
    "generate_txt_config_by_components(label_dir     = flattened_nighttime_labels,\n",
    "                                strict          = True,\n",
    "                                include_person  = True, \n",
    "                                include_people  = False, \n",
    "                                include_empty   = True, \n",
    "                                include_cyclist = False, \n",
    "                                output_file= nighttime_pedestrian_and_empty_image_ids)"
   ]
  },
  {
   "cell_type": "code",
   "execution_count": null,
   "id": "2fe2c7bd",
   "metadata": {},
   "outputs": [],
   "source": [
    "flattened_nighttime_labels = \"/home/dimitrios/THESIS_DATASETS/kaist_original/preprocessed_nighttime/labels\"\n",
    "nighttime_pedestrian_and_empty_image_ids = \"./config/nighttime_ped_emp_only.txt\"\n"
   ]
  },
  {
   "cell_type": "code",
   "execution_count": null,
   "id": "733967a5",
   "metadata": {},
   "outputs": [],
   "source": [
    "cleaned_nighttime_labels_ped_emp = flattened_nighttime_labels + \"ped_emp\"\n",
    "\n",
    "copy_files_based_on_config(input_dir=flattened_nighttime_labels, \n",
    "                           output_dir=cleaned_nighttime_labels_ped_emp, \n",
    "                           config_file=nighttime_pedestrian_and_empty_image_ids)\n",
    "\n",
    "yolo_nighttime_labels = convert_kaist_to_yolo_labels(source_directory= cleaned_nighttime_labels_ped_emp)"
   ]
  },
  {
   "cell_type": "code",
   "execution_count": null,
   "id": "cb27f1cb",
   "metadata": {},
   "outputs": [],
   "source": []
  },
  {
   "cell_type": "code",
   "execution_count": null,
   "id": "9945f014",
   "metadata": {},
   "outputs": [],
   "source": [
    "cleaned_nighttime_rgb_ped_emp = flattened_nighttime_rgb_images + \"ped_emp\"\n",
    "\n",
    "copy_files_based_on_config(input_dir=flattened_nighttime_rgb_images, \n",
    "                           output_dir=cleaned_nighttime_rgb_ped_emp, \n",
    "                           config_file=nighttime_pedestrian_and_empty_image_ids)"
   ]
  },
  {
   "cell_type": "code",
   "execution_count": null,
   "id": "7f993a1c",
   "metadata": {},
   "outputs": [],
   "source": [
    "cleaned_nighttime_lwir_ped_emp = flattened_nighttime_lwir_images + \"ped_emp\"\n",
    "\n",
    "copy_files_based_on_config(input_dir=flattened_nighttime_lwir_images, \n",
    "                           output_dir=cleaned_nighttime_lwir_ped_emp, \n",
    "                           config_file=nighttime_pedestrian_and_empty_image_ids)"
   ]
  },
  {
   "cell_type": "code",
   "execution_count": null,
   "id": "81032a0d",
   "metadata": {},
   "outputs": [],
   "source": [
    "import ultralytics\n",
    "ultralytics.checks()\n",
    "from ultralytics import YOLO"
   ]
  },
  {
   "cell_type": "code",
   "execution_count": null,
   "id": "5f21ad48",
   "metadata": {},
   "outputs": [],
   "source": [
    "cleaned_nighttime_lwir_ped_emp='/home/dimitrios/THESIS_DATASETS/kaist_original/preprocessed_nighttime/images/lwirped_emp'"
   ]
  },
  {
   "cell_type": "code",
   "execution_count": null,
   "id": "7b91129b",
   "metadata": {},
   "outputs": [],
   "source": [
    "model = YOLO(FINE_TUNED_IR_YOLO_MODEL)\n",
    "lwir_generated_yolo_labels = generate_yolo_labels(model=model, image_dir=cleaned_nighttime_lwir_ped_emp)"
   ]
  },
  {
   "cell_type": "markdown",
   "id": "22d5bc7b",
   "metadata": {},
   "source": [
    "# generated labels for nighttime section of the dataset using the fine tuned IR-YOLO model "
   ]
  },
  {
   "cell_type": "code",
   "execution_count": null,
   "id": "4104f5cb",
   "metadata": {},
   "outputs": [],
   "source": [
    "lwir_generated_yolo_labels = '/home/dimitrios/THESIS_DATASETS/kaist_original/preprocessed_nighttime/images/lwirped_emp_generated_yolo_labels'"
   ]
  },
  {
   "cell_type": "markdown",
   "id": "1b7578fa",
   "metadata": {},
   "source": [
    "train:\n",
    "    images = cleaned_nighttime_rgb_ped_emp\n",
    "    labels = lwir_generated_yolo_labels\n",
    "\n",
    "test: \n",
    "    images = os.path.join(ROOT_KAIST, \"annotations-xml-new-sanitized/set09/V000\")\n",
    "    labels = os.path.join(ROOT_KAIST, \"/images/set09/V000/visible\")\n",
    "\n",
    "<!-- /home/dimitrios/THESIS_DATASETS/kaist_original/annotations-xml-new-sanitized/set09/V000 -->"
   ]
  },
  {
   "cell_type": "code",
   "execution_count": null,
   "id": "1798360e",
   "metadata": {},
   "outputs": [],
   "source": [
    "cleaned_nighttime_rgb_ped_emp = \"/home/dimitrios/THESIS_DATASETS/kaist_original/preprocessed_nighttime/images/visibleped_emp\"\n",
    "lwir_generated_yolo_labels = '/home/dimitrios/THESIS_DATASETS/kaist_original/preprocessed_nighttime/images/lwirped_emp_generated_yolo_labels'"
   ]
  },
  {
   "cell_type": "code",
   "execution_count": null,
   "id": "a3c31f0a",
   "metadata": {},
   "outputs": [],
   "source": [
    "dataset_generated_labels = {\n",
    "    \"train\":{\n",
    "        \"images\": cleaned_nighttime_rgb_ped_emp,\n",
    "        \"labels\": lwir_generated_yolo_labels,\n",
    "        },\n",
    "    \"test\":{\n",
    "        \"images\": os.path.join(ROOT_KAIST, \"annotations-xml-new-sanitized/set09/V000\"),\n",
    "        \"labels\": os.path.join(ROOT_KAIST, \"images/set09/V000/visible\")\n",
    "    }\n",
    "}\n",
    "\n",
    "generated_labels_tts = os.path.join(ROOT_KAIST, \"tts_generated_labels_ir-yolov11m\")\n",
    "\n",
    "organize_dataset(root_path=generated_labels_tts, dataset_dict=dataset_generated_labels)"
   ]
  },
  {
   "cell_type": "code",
   "execution_count": null,
   "id": "3d2bd3c2",
   "metadata": {},
   "outputs": [],
   "source": [
    "yaml_ir_yolo_training = {\n",
    "    \"train\": os.path.join(generated_labels_tts, \"train\"),\n",
    "    \"val\":   os.path.join(generated_labels_tts, \"test\"),\n",
    "    \"nc\": 1,\n",
    "    \"names\": ['person']  \n",
    "}\n",
    "\n",
    "yaml_daytime_labels = \"./config/ir-yolov11m_tts.yaml\"\n",
    "\n",
    "write_yolo_yaml(config_dict= yaml_ir_yolo_training, output_path=yaml_daytime_labels)"
   ]
  },
  {
   "cell_type": "code",
   "execution_count": null,
   "id": "7f46cb45",
   "metadata": {},
   "outputs": [],
   "source": [
    "from ultralytics import YOLO\n",
    "import subprocess\n",
    "import torch\n",
    "\n",
    "torch.cuda.empty_cache()\n",
    "try:\n",
    "    subprocess.check_output('nvidia-smi')\n",
    "    print('Nvidia GPU detected!')\n",
    "except Exception: # this command not being found can raise quite a few different errors depending on the configuration\n",
    "    print('No Nvidia GPU in system!')\n",
    "    \n",
    "\n",
    "torch.cuda.is_available()"
   ]
  },
  {
   "cell_type": "markdown",
   "id": "b8afd396",
   "metadata": {},
   "source": [
    "# training of a baseline model for low-light pedestrian detection with generated labels"
   ]
  },
  {
   "cell_type": "code",
   "execution_count": null,
   "id": "6f793090",
   "metadata": {},
   "outputs": [],
   "source": [
    "model = YOLO(BASELINE_MODEL)  \n",
    "results = model.train(data=yaml_daytime_labels, epochs=10, device=0, batch=8)"
   ]
  },
  {
   "cell_type": "markdown",
   "id": "57411b28",
   "metadata": {},
   "source": [
    "# data preprocessing for nighttime KAIST labels\n",
    "\n",
    "the process is the same as before with the key difference of having the tran labels be the ones provided by KAIST"
   ]
  },
  {
   "cell_type": "code",
   "execution_count": null,
   "id": "07d7d490",
   "metadata": {},
   "outputs": [],
   "source": [
    "kaist_yolo_format_nighttime_labels = \"/home/dimitrios/THESIS_DATASETS/kaist_original/preprocessed_nighttime/labelsped_emp_yolo_format\""
   ]
  },
  {
   "cell_type": "code",
   "execution_count": null,
   "id": "b3549122",
   "metadata": {},
   "outputs": [],
   "source": [
    "dataset_generated_labels = {\n",
    "    \"train\":{\n",
    "        \"images\": cleaned_nighttime_rgb_ped_emp,\n",
    "        \"labels\": kaist_yolo_format_nighttime_labels,\n",
    "        },\n",
    "    \"test\":{\n",
    "        \"images\": os.path.join(ROOT_KAIST, \"annotations-xml-new-sanitized/set09/V000\"),\n",
    "        \"labels\": os.path.join(ROOT_KAIST, \"images/set09/V000/visible\")\n",
    "    }\n",
    "    \n",
    "    \n",
    "    \n",
    "}\n",
    "\n",
    "generated_labels_tts = os.path.join(ROOT_KAIST, \"tts_KAIST_labels\")\n",
    "\n",
    "organize_dataset(root_path=generated_labels_tts, dataset_dict=dataset_generated_labels)"
   ]
  },
  {
   "cell_type": "code",
   "execution_count": null,
   "id": "68fbf642",
   "metadata": {},
   "outputs": [],
   "source": [
    "yaml_kaist_training = {\n",
    "    \"train\": os.path.join(generated_labels_tts, \"train\"),\n",
    "    \"val\":   os.path.join(generated_labels_tts, \"test\"),\n",
    "    \"nc\": 1,\n",
    "    \"names\": ['person']  \n",
    "}\n",
    "\n",
    "yaml_nighttime_labels_kaist = \"./config/kaist_labels_tts.yaml\"\n",
    "\n",
    "write_yolo_yaml(config_dict= yaml_kaist_training, output_path=yaml_nighttime_labels_kaist)"
   ]
  },
  {
   "cell_type": "code",
   "execution_count": null,
   "id": "9a37b0e5",
   "metadata": {},
   "outputs": [],
   "source": [
    "model = YOLO(BASELINE_MODEL)  \n",
    "results = model.train(data=yaml_nighttime_labels_kaist, epochs=10, device=0, batch=8)"
   ]
  }
 ],
 "metadata": {
  "kernelspec": {
   "display_name": "thesis01",
   "language": "python",
   "name": "python3"
  },
  "language_info": {
   "codemirror_mode": {
    "name": "ipython",
    "version": 3
   },
   "file_extension": ".py",
   "mimetype": "text/x-python",
   "name": "python",
   "nbconvert_exporter": "python",
   "pygments_lexer": "ipython3",
   "version": "3.10.16"
  }
 },
 "nbformat": 4,
 "nbformat_minor": 5
}
