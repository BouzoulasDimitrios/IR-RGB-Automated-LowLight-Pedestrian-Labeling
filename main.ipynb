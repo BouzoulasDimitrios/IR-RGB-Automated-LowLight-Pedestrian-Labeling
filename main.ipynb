{
 "cells": [
  {
   "cell_type": "code",
   "execution_count": null,
   "id": "78e4a0d8",
   "metadata": {},
   "outputs": [],
   "source": [
    "from headers.directory_manager import *\n",
    "\n",
    "ROOT_KAIST = \"/home/dimitrios/THESIS_DATASETS/kaist_original\"\n",
    "\n",
    "BASELINE_MODEL = \"./configs/yolo11m.pt\" # OR SOME OTHER BASELINE MODEL (YOLOv11 family model)\n",
    "FINE_TUNED_IR_YOLO_MODEL = \"FINE_TUNED_MODEL\"\n",
    "\n",
    "nighttime_sequences = [\"03\", \"04\", \"05\", \"10\", \"11\"]\n"
   ]
  },
  {
   "cell_type": "markdown",
   "id": "016fbfb3",
   "metadata": {},
   "source": [
    "# flatten lwir visible and labels for nighttime sequences\n"
   ]
  },
  {
   "cell_type": "code",
   "execution_count": null,
   "id": "d9a88495",
   "metadata": {},
   "outputs": [],
   "source": [
    "flattened_nighttime_lwir_images = flatten_KAIST_images(sequences= nighttime_sequences, \n",
    "                                                       root_kaist= ROOT_KAIST, \n",
    "                                                       target_directory=\"preprocessed_nighttime\", \n",
    "                                                       image_type= \"lwir\")\n",
    "\n",
    "flattened_nighttime_rgb_images = flatten_KAIST_images(sequences= nighttime_sequences, \n",
    "                                                       root_kaist= ROOT_KAIST, \n",
    "                                                       target_directory=\"preprocessed_nighttime\", \n",
    "                                                       image_type= \"visible\")\n",
    "\n",
    "flattened_nighttime_labels = flatten_KAIST_labels(sequences= nighttime_sequences, \n",
    "                                                  root_kaist= ROOT_KAIST, \n",
    "                                                  target_directory=\"preprocessed_nighttime\")"
   ]
  },
  {
   "cell_type": "markdown",
   "id": "1f7dc5a9",
   "metadata": {},
   "source": [
    "# generate config file containing only pedestrians and and empty frames "
   ]
  },
  {
   "cell_type": "code",
   "execution_count": null,
   "id": "3feae4e1",
   "metadata": {},
   "outputs": [],
   "source": [
    "nighttime_pedestrian_and_empty_image_ids = \"./configs/nighttime_ped_emp_only.txt\"\n",
    "\n",
    "generate_txt_config_by_components(label_dir     = flattened_nighttime_labels,\n",
    "                                strict          = True,\n",
    "                                include_person  = True, \n",
    "                                include_people  = False, \n",
    "                                include_empty   = True, \n",
    "                                include_cyclist = False, \n",
    "                                output_file= nighttime_pedestrian_and_empty_image_ids)"
   ]
  },
  {
   "cell_type": "code",
   "execution_count": null,
   "id": "733967a5",
   "metadata": {},
   "outputs": [],
   "source": [
    "cleaned_nighttime_labels_ped_emp = flattened_nighttime_labels + \"ped_emp\"\n",
    "\n",
    "copy_files_based_on_config(input_dir=flattened_nighttime_labels, \n",
    "                           output_dir=cleaned_nighttime_labels_ped_emp, \n",
    "                           config_file=nighttime_pedestrian_and_empty_image_ids)\n",
    "\n",
    "yolo_nighttime_labels = convert_kaist_to_yolo_labels(source_directory= cleaned_nighttime_labels_ped_emp)"
   ]
  },
  {
   "cell_type": "markdown",
   "id": "7145c0a1",
   "metadata": {},
   "source": [
    "# convert test sequence to YOLO format"
   ]
  },
  {
   "cell_type": "code",
   "execution_count": null,
   "id": "bb58c88a",
   "metadata": {},
   "outputs": [],
   "source": [
    "test_sequence_lables = os.path.join(ROOT_KAIST, \"annotations-xml-new-sanitized/set09/V000\")\n",
    "test_sequence_images = os.path.join(ROOT_KAIST, \"images/set09/V000/visible\")"
   ]
  },
  {
   "cell_type": "code",
   "execution_count": null,
   "id": "05c7fb5e",
   "metadata": {},
   "outputs": [],
   "source": [
    "test_sequence_pedestrians_and_empty = \"./configs/nighttime_test_sequence_ped_emp_only.txt\"\n",
    "\n",
    "generate_txt_config_by_components(label_dir     = test_sequence_lables,\n",
    "                                strict          = True,\n",
    "                                include_person  = True, \n",
    "                                include_people  = False, \n",
    "                                include_empty   = True, \n",
    "                                include_cyclist = False, \n",
    "                                output_file= test_sequence_pedestrians_and_empty)"
   ]
  },
  {
   "cell_type": "code",
   "execution_count": null,
   "id": "05c81f12",
   "metadata": {},
   "outputs": [],
   "source": [
    "cleaned_up_test_sequence_labels = os.path.join(ROOT_KAIST, \"cleaned_up_test_labels\")\n",
    "copy_files_based_on_config(input_dir=test_sequence_lables, \n",
    "                           output_dir=cleaned_up_test_sequence_labels, \n",
    "                           config_file=test_sequence_pedestrians_and_empty)\n",
    "\n",
    "\n",
    "cleaned_up_test_sequence_images = os.path.join(ROOT_KAIST, \"cleaned_up_test_images\")\n",
    "copy_files_based_on_config(input_dir=test_sequence_images, \n",
    "                           output_dir=cleaned_up_test_sequence_images, \n",
    "                           config_file=test_sequence_pedestrians_and_empty)\n",
    "\n"
   ]
  },
  {
   "cell_type": "code",
   "execution_count": null,
   "id": "ab6b4fc8",
   "metadata": {},
   "outputs": [],
   "source": [
    "test_sequence_labels_cleaned = convert_kaist_to_yolo_labels(source_directory= test_sequence_lables)\n"
   ]
  },
  {
   "cell_type": "code",
   "execution_count": null,
   "id": "9945f014",
   "metadata": {},
   "outputs": [],
   "source": [
    "cleaned_nighttime_rgb_ped_emp = flattened_nighttime_rgb_images + \"ped_emp\"\n",
    "\n",
    "copy_files_based_on_config(input_dir=flattened_nighttime_rgb_images, \n",
    "                           output_dir=cleaned_nighttime_rgb_ped_emp, \n",
    "                           config_file=nighttime_pedestrian_and_empty_image_ids)"
   ]
  },
  {
   "cell_type": "code",
   "execution_count": null,
   "id": "7f993a1c",
   "metadata": {},
   "outputs": [],
   "source": [
    "cleaned_nighttime_lwir_ped_emp = flattened_nighttime_lwir_images + \"ped_emp\"\n",
    "\n",
    "copy_files_based_on_config(input_dir=flattened_nighttime_lwir_images, \n",
    "                           output_dir=cleaned_nighttime_lwir_ped_emp, \n",
    "                           config_file=nighttime_pedestrian_and_empty_image_ids)"
   ]
  },
  {
   "cell_type": "code",
   "execution_count": null,
   "id": "81032a0d",
   "metadata": {},
   "outputs": [],
   "source": [
    "import ultralytics\n",
    "ultralytics.checks()\n",
    "from ultralytics import YOLO"
   ]
  },
  {
   "cell_type": "code",
   "execution_count": null,
   "id": "7b91129b",
   "metadata": {},
   "outputs": [],
   "source": [
    "model = YOLO(FINE_TUNED_IR_YOLO_MODEL)\n",
    "lwir_generated_yolo_labels = generate_yolo_labels(model=model, image_dir=cleaned_nighttime_lwir_ped_emp)"
   ]
  },
  {
   "cell_type": "markdown",
   "id": "22d5bc7b",
   "metadata": {},
   "source": [
    "# generated labels for nighttime section of the dataset using the fine tuned IR-YOLO model "
   ]
  },
  {
   "cell_type": "code",
   "execution_count": null,
   "id": "a3c31f0a",
   "metadata": {},
   "outputs": [],
   "source": [
    "dataset_generated_labels = {\n",
    "    \"train\":{\n",
    "        \"images\": cleaned_nighttime_rgb_ped_emp,\n",
    "        \"labels\": lwir_generated_yolo_labels,\n",
    "        },\n",
    "    \"test\":{\n",
    "        \"images\": cleaned_up_test_sequence_images,\n",
    "        \"labels\": test_sequence_labels_cleaned\n",
    "    }\n",
    "}\n",
    "generated_labels_tts = os.path.join(ROOT_KAIST, \"tts_generated_labels_ir-yolov11m\")\n",
    "\n",
    "organize_dataset(root_path=generated_labels_tts, dataset_dict=dataset_generated_labels)"
   ]
  },
  {
   "cell_type": "code",
   "execution_count": null,
   "id": "3d2bd3c2",
   "metadata": {},
   "outputs": [],
   "source": [
    "yaml_ir_yolo_training = {\n",
    "    \"train\": os.path.join(generated_labels_tts, \"train\"),\n",
    "    \"val\":   os.path.join(generated_labels_tts, \"test\"),\n",
    "    \"nc\": 1,\n",
    "    \"names\": ['person']  \n",
    "}\n",
    "\n",
    "yaml_daytime_labels = \"./configs/ir-yolov11m_tts.yaml\"\n",
    "\n",
    "write_yolo_yaml(config_dict= yaml_ir_yolo_training, output_path=yaml_daytime_labels)"
   ]
  },
  {
   "cell_type": "code",
   "execution_count": null,
   "id": "7f46cb45",
   "metadata": {},
   "outputs": [],
   "source": [
    "from ultralytics import YOLO\n",
    "import subprocess\n",
    "import torch\n",
    "\n",
    "torch.cuda.empty_cache()\n",
    "try:\n",
    "    subprocess.check_output('nvidia-smi')\n",
    "    print('Nvidia GPU detected!')\n",
    "except Exception: # this command not being found can raise quite a few different errors depending on the configuration\n",
    "    print('No Nvidia GPU in system!')\n",
    "    \n",
    "\n",
    "torch.cuda.is_available()"
   ]
  },
  {
   "cell_type": "markdown",
   "id": "b8afd396",
   "metadata": {},
   "source": [
    "# training of a baseline model for low-light pedestrian detection with generated labels"
   ]
  },
  {
   "cell_type": "code",
   "execution_count": null,
   "id": "6f793090",
   "metadata": {},
   "outputs": [],
   "source": [
    "BASELINE_MODEL = \"./configs/yolo11m.pt\"\n",
    "yaml_daytime_labels = \"./configs/ir-yolov11m_tts.yaml\"\n",
    "\n",
    "model = YOLO(BASELINE_MODEL)  \n",
    "results = model.train(model = model, data=yaml_daytime_labels, epochs=10, device=0, batch=8)"
   ]
  },
  {
   "cell_type": "markdown",
   "id": "57411b28",
   "metadata": {},
   "source": [
    "# data preprocessing for nighttime KAIST labels\n",
    "\n",
    "the process is the same as before with the key difference of having the tran labels be the ones provided by KAIST"
   ]
  },
  {
   "cell_type": "code",
   "execution_count": null,
   "id": "b3549122",
   "metadata": {},
   "outputs": [],
   "source": [
    "dataset_generated_labels = {\n",
    "    \"train\":{\n",
    "        \"images\": cleaned_nighttime_rgb_ped_emp,\n",
    "        \"labels\": yolo_nighttime_labels,\n",
    "        },\n",
    "    \"test\":{\n",
    "        \"images\": cleaned_up_test_sequence_images,\n",
    "        \"labels\": test_sequence_labels_cleaned\n",
    "    }\n",
    "}\n",
    "\n",
    "generated_labels_tts = os.path.join(ROOT_KAIST, \"tts_KAIST_labels\")\n",
    "\n",
    "organize_dataset(root_path=generated_labels_tts, dataset_dict=dataset_generated_labels)"
   ]
  },
  {
   "cell_type": "code",
   "execution_count": null,
   "id": "68fbf642",
   "metadata": {},
   "outputs": [],
   "source": [
    "yaml_kaist_training = {\n",
    "    \"train\": os.path.join(generated_labels_tts, \"train\"),\n",
    "    \"val\":   os.path.join(generated_labels_tts, \"test\"),\n",
    "    \"nc\": 1,\n",
    "    \"names\": ['person']  \n",
    "}\n",
    "\n",
    "yaml_nighttime_labels_kaist = \"./configs/kaist_labels_tts.yaml\"\n",
    "\n",
    "write_yolo_yaml(config_dict= yaml_kaist_training, output_path=yaml_nighttime_labels_kaist)"
   ]
  },
  {
   "cell_type": "code",
   "execution_count": null,
   "id": "9a37b0e5",
   "metadata": {},
   "outputs": [],
   "source": [
    "model = YOLO(BASELINE_MODEL)  \n",
    "results = model.train(data=yaml_nighttime_labels_kaist, epochs=10, device=0, batch=8)"
   ]
  }
 ],
 "metadata": {
  "kernelspec": {
   "display_name": "thesis01",
   "language": "python",
   "name": "python3"
  },
  "language_info": {
   "codemirror_mode": {
    "name": "ipython",
    "version": 3
   },
   "file_extension": ".py",
   "mimetype": "text/x-python",
   "name": "python",
   "nbconvert_exporter": "python",
   "pygments_lexer": "ipython3",
   "version": "3.10.16"
  }
 },
 "nbformat": 4,
 "nbformat_minor": 5
}
